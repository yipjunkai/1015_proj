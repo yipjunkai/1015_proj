{
 "cells": [
  {
   "cell_type": "markdown",
   "metadata": {},
   "source": [
    "# Analysis of outwardly depressive modd on social media\n",
    "\n",
    "Use of Natural Language Processing on posts made on Twitter and Reddit to predict depressive thoughts."
   ]
  },
  {
   "cell_type": "markdown",
   "metadata": {},
   "source": [
    "---\n",
    "\n",
    "This notebook is written to be run both locally or on Google Colab.\n",
    "\n",
    "## Setup for local run\n",
    "\n",
    "- Download the root file as is.\n",
    "- Install packages\n",
    "\n",
    "```python\n",
    "pip install -r requirements.txt\n",
    "```\n",
    "\n",
    "\n",
    "## Setup for Google Colab\n",
    "\n",
    "- Download this notebook and upload onto Google Colab\n",
    "- Download the zip files (within /input) and upload into root directory of your Google Drive.\n",
    "\n",
    "*You may download the [Sentiment140](https://www.kaggle.com/datasets/kazanova/sentiment140) directly from the source and replace the provided one (within /input). No edits were made to the data.*"
   ]
  },
  {
   "cell_type": "code",
   "execution_count": 48,
   "metadata": {
    "colab": {
     "base_uri": "https://localhost:8080/"
    },
    "id": "b5PTnw_b3n0s",
    "outputId": "c9e21091-a13c-4646-ef86-873c9141185e"
   },
   "outputs": [
    {
     "name": "stderr",
     "output_type": "stream",
     "text": [
      "[nltk_data] Downloading package stopwords to\n",
      "[nltk_data]     C:\\Users\\JunKai\\AppData\\Roaming\\nltk_data...\n",
      "[nltk_data]   Package stopwords is already up-to-date!\n"
     ]
    }
   ],
   "source": [
    "import pandas as pd\n",
    "import numpy as np\n",
    "import nltk\n",
    "import pickle\n",
    "\n",
    "from re import sub\n",
    "from time import time\n",
    "\n",
    "nltk.download('stopwords')\n",
    "from nltk.corpus import stopwords\n",
    "\n",
    "from sklearn.model_selection import train_test_split\n",
    "from sklearn.preprocessing import LabelEncoder\n",
    "\n",
    "from gensim.models.word2vec import Word2Vec\n",
    "\n",
    "from keras.preprocessing.text import Tokenizer\n",
    "from keras.preprocessing.sequence import pad_sequences\n",
    "from keras.models import Sequential, load_model\n",
    "from keras.layers import Embedding, Dropout, CuDNNLSTM, Dense\n",
    "from keras.callbacks import ReduceLROnPlateau, EarlyStopping\n",
    "\n",
    "from matplotlib.pyplot import show, subplots\n",
    "\n",
    "from tqdm import tqdm\n",
    "from tqdm.keras import TqdmCallback\n",
    "tqdm.pandas()\n",
    "\n",
    "from dask.diagnostics import ProgressBar\n",
    "import dask.dataframe as dd\n",
    "ProgressBar().register()"
   ]
  },
  {
   "cell_type": "code",
   "execution_count": 2,
   "metadata": {},
   "outputs": [
    {
     "name": "stdout",
     "output_type": "stream",
     "text": [
      "Running locally...\n",
      "./build directory already exists. Skipping extracting of zip files.\n",
      "2 GPUs detected.\n",
      "Tensorflow has CUDA support.\n"
     ]
    }
   ],
   "source": [
    "def runLocally():\n",
    "\n",
    "    import shutil\n",
    "    import os\n",
    "    import tensorflow as tf\n",
    "\n",
    "    print(\"Running locally...\")\n",
    "\n",
    "    path = './build'\n",
    "\n",
    "    if not os.path.isdir(path):\n",
    "        for x in os.listdir('./input'):\n",
    "            shutil.unpack_archive(f'./input/{x}', path)\n",
    "            print(f\"Extracted {x} into '{path}' directory\")\n",
    "    else:\n",
    "        print(f\"{path} directory already exists. Skipping extracting of zip files.\")\n",
    "\n",
    "    gpuCount = len(tf.config.list_physical_devices('GPU'))\n",
    "    \n",
    "    if gpuCount > 0:\n",
    "\n",
    "        print(f\"{gpuCount} GPUs detected.\")\n",
    "\n",
    "        if tf.test.is_built_with_cuda():\n",
    "            print(f\"Tensorflow has CUDA support.\")\n",
    "\n",
    "        if not tf.test.is_built_with_cuda():\n",
    "            print(\"Tensorflow doesn't have CUDA support.\")\n",
    "    else:\n",
    "        print(\"No GPUs detected on local device.\")\n",
    "\n",
    "    return path\n",
    "\n",
    "def runOnColab():\n",
    "\n",
    "    from google.colab import drive\n",
    "    \n",
    "    print(\"Running on Google Colab\")\n",
    "    \n",
    "    drive.mount('/content/drive')\n",
    "\n",
    "    !unzip \"/content/drive/MyDrive/training.1600000.processed.noemoticon.csv.zip\"\n",
    "    !unzip \"/content/drive/MyDrive/scrapped_posts.zip\"\n",
    "\n",
    "    return '/content'\n",
    "    \n",
    "directory = runLocally()"
   ]
  },
  {
   "cell_type": "markdown",
   "metadata": {
    "id": "C7D8CkiY3aFY"
   },
   "source": [
    "# **Loading data**\n",
    "\n",
    "We are using 2 sources of data, pre-catagorised twitter posts from kaggle, and scrapped reddit post from specific subreddits.\n",
    "\n",
    "1. Twitter Posts from Kaggle\n",
    "\n",
    "2. Scrape posts from subreddits; [/r/depression](https://www.reddit.com/r/depression/), [/r/suicidewatch](https://www.reddit.com/r/SuicideWatch/)\n",
    "\n",
    "This is to allow for a greater vocabulary between the two different websites for more general NLP."
   ]
  },
  {
   "cell_type": "markdown",
   "metadata": {
    "id": "hnlQ2T5c0yXV"
   },
   "source": [
    "---\n",
    "\n",
    "## Twitter data from [Sentiment140](https://www.kaggle.com/datasets/kazanova/sentiment140)"
   ]
  },
  {
   "cell_type": "code",
   "execution_count": 3,
   "metadata": {
    "colab": {
     "base_uri": "https://localhost:8080/",
     "height": 206
    },
    "id": "OJBdnkVJ4ccm",
    "outputId": "cf26fdb7-f64e-4e0a-a986-1bdf3b4e7e98"
   },
   "outputs": [
    {
     "data": {
      "text/html": [
       "<div>\n",
       "<style scoped>\n",
       "    .dataframe tbody tr th:only-of-type {\n",
       "        vertical-align: middle;\n",
       "    }\n",
       "\n",
       "    .dataframe tbody tr th {\n",
       "        vertical-align: top;\n",
       "    }\n",
       "\n",
       "    .dataframe thead th {\n",
       "        text-align: right;\n",
       "    }\n",
       "</style>\n",
       "<table border=\"1\" class=\"dataframe\">\n",
       "  <thead>\n",
       "    <tr style=\"text-align: right;\">\n",
       "      <th></th>\n",
       "      <th>sentiment</th>\n",
       "      <th>id</th>\n",
       "      <th>date</th>\n",
       "      <th>query</th>\n",
       "      <th>user_id</th>\n",
       "      <th>text</th>\n",
       "    </tr>\n",
       "  </thead>\n",
       "  <tbody>\n",
       "    <tr>\n",
       "      <th>0</th>\n",
       "      <td>0</td>\n",
       "      <td>1467810369</td>\n",
       "      <td>Mon Apr 06 22:19:45 PDT 2009</td>\n",
       "      <td>NO_QUERY</td>\n",
       "      <td>_TheSpecialOne_</td>\n",
       "      <td>@switchfoot http://twitpic.com/2y1zl - Awww, t...</td>\n",
       "    </tr>\n",
       "    <tr>\n",
       "      <th>1</th>\n",
       "      <td>0</td>\n",
       "      <td>1467810672</td>\n",
       "      <td>Mon Apr 06 22:19:49 PDT 2009</td>\n",
       "      <td>NO_QUERY</td>\n",
       "      <td>scotthamilton</td>\n",
       "      <td>is upset that he can't update his Facebook by ...</td>\n",
       "    </tr>\n",
       "    <tr>\n",
       "      <th>2</th>\n",
       "      <td>0</td>\n",
       "      <td>1467810917</td>\n",
       "      <td>Mon Apr 06 22:19:53 PDT 2009</td>\n",
       "      <td>NO_QUERY</td>\n",
       "      <td>mattycus</td>\n",
       "      <td>@Kenichan I dived many times for the ball. Man...</td>\n",
       "    </tr>\n",
       "    <tr>\n",
       "      <th>3</th>\n",
       "      <td>0</td>\n",
       "      <td>1467811184</td>\n",
       "      <td>Mon Apr 06 22:19:57 PDT 2009</td>\n",
       "      <td>NO_QUERY</td>\n",
       "      <td>ElleCTF</td>\n",
       "      <td>my whole body feels itchy and like its on fire</td>\n",
       "    </tr>\n",
       "    <tr>\n",
       "      <th>4</th>\n",
       "      <td>0</td>\n",
       "      <td>1467811193</td>\n",
       "      <td>Mon Apr 06 22:19:57 PDT 2009</td>\n",
       "      <td>NO_QUERY</td>\n",
       "      <td>Karoli</td>\n",
       "      <td>@nationwideclass no, it's not behaving at all....</td>\n",
       "    </tr>\n",
       "  </tbody>\n",
       "</table>\n",
       "</div>"
      ],
      "text/plain": [
       "   sentiment          id                          date     query  \\\n",
       "0          0  1467810369  Mon Apr 06 22:19:45 PDT 2009  NO_QUERY   \n",
       "1          0  1467810672  Mon Apr 06 22:19:49 PDT 2009  NO_QUERY   \n",
       "2          0  1467810917  Mon Apr 06 22:19:53 PDT 2009  NO_QUERY   \n",
       "3          0  1467811184  Mon Apr 06 22:19:57 PDT 2009  NO_QUERY   \n",
       "4          0  1467811193  Mon Apr 06 22:19:57 PDT 2009  NO_QUERY   \n",
       "\n",
       "           user_id                                               text  \n",
       "0  _TheSpecialOne_  @switchfoot http://twitpic.com/2y1zl - Awww, t...  \n",
       "1    scotthamilton  is upset that he can't update his Facebook by ...  \n",
       "2         mattycus  @Kenichan I dived many times for the ball. Man...  \n",
       "3          ElleCTF    my whole body feels itchy and like its on fire   \n",
       "4           Karoli  @nationwideclass no, it's not behaving at all....  "
      ]
     },
     "execution_count": 3,
     "metadata": {},
     "output_type": "execute_result"
    }
   ],
   "source": [
    "df1 = pd.read_csv(f'{directory}/training.1600000.processed.noemoticon.csv', encoding = 'latin', header=None)\n",
    "df1.columns = ['sentiment', 'id', 'date', 'query', 'user_id', 'text']\n",
    "df1.head()"
   ]
  },
  {
   "cell_type": "markdown",
   "metadata": {
    "id": "7bB6VzG6cCLQ"
   },
   "source": [
    "---\n",
    "\n",
    "## Reddit data from scrapper\n",
    "\n",
    "*Below is a code block of the scrapping code we ran ahead of time. The raw data was exported to csv files and zipped into /input/scrapped_posts.zip as it tooks hours to scrapped the data and there were limitations with the api used.*\n",
    "\n",
    "*Note: Since last touched, the api endpoints may have changed.*"
   ]
  },
  {
   "cell_type": "code",
   "execution_count": null,
   "metadata": {
    "id": "qtMze7GGcjUp"
   },
   "outputs": [],
   "source": []
  },
  {
   "cell_type": "code",
   "execution_count": 4,
   "metadata": {
    "colab": {
     "base_uri": "https://localhost:8080/",
     "height": 337
    },
    "id": "QrkWhLc4eECq",
    "outputId": "94e2d906-f8ac-4d51-fc5a-ac354d653e20"
   },
   "outputs": [
    {
     "data": {
      "text/html": [
       "<div>\n",
       "<style scoped>\n",
       "    .dataframe tbody tr th:only-of-type {\n",
       "        vertical-align: middle;\n",
       "    }\n",
       "\n",
       "    .dataframe tbody tr th {\n",
       "        vertical-align: top;\n",
       "    }\n",
       "\n",
       "    .dataframe thead th {\n",
       "        text-align: right;\n",
       "    }\n",
       "</style>\n",
       "<table border=\"1\" class=\"dataframe\">\n",
       "  <thead>\n",
       "    <tr style=\"text-align: right;\">\n",
       "      <th></th>\n",
       "      <th>Post_iD</th>\n",
       "      <th>Title</th>\n",
       "      <th>Author</th>\n",
       "      <th>Body</th>\n",
       "      <th>Score</th>\n",
       "      <th>Total_no_of_comments</th>\n",
       "      <th>Publish_date</th>\n",
       "      <th>Subreddit</th>\n",
       "      <th>Link</th>\n",
       "    </tr>\n",
       "  </thead>\n",
       "  <tbody>\n",
       "    <tr>\n",
       "      <th>0</th>\n",
       "      <td>s933xe</td>\n",
       "      <td>Confused</td>\n",
       "      <td>Ciscobudd</td>\n",
       "      <td>My depression has crept up on me today. I feel...</td>\n",
       "      <td>1</td>\n",
       "      <td>0</td>\n",
       "      <td>2022-01-21 13:17:11</td>\n",
       "      <td>depression</td>\n",
       "      <td>https://www.reddit.com/r/depression/comments/s...</td>\n",
       "    </tr>\n",
       "    <tr>\n",
       "      <th>1</th>\n",
       "      <td>s935jy</td>\n",
       "      <td>Broken</td>\n",
       "      <td>Bazinga_yo_ass</td>\n",
       "      <td>Wife said she doesn't feel anything for me any...</td>\n",
       "      <td>1</td>\n",
       "      <td>0</td>\n",
       "      <td>2022-01-21 13:20:08</td>\n",
       "      <td>depression</td>\n",
       "      <td>https://www.reddit.com/r/depression/comments/s...</td>\n",
       "    </tr>\n",
       "    <tr>\n",
       "      <th>2</th>\n",
       "      <td>s935r4</td>\n",
       "      <td>Nothing feels fun anymore</td>\n",
       "      <td>Sad_Mode6170</td>\n",
       "      <td>I used to enjoy a lot of things, like drawing,...</td>\n",
       "      <td>1</td>\n",
       "      <td>0</td>\n",
       "      <td>2022-01-21 13:20:25</td>\n",
       "      <td>depression</td>\n",
       "      <td>https://www.reddit.com/r/depression/comments/s...</td>\n",
       "    </tr>\n",
       "    <tr>\n",
       "      <th>3</th>\n",
       "      <td>s939jq</td>\n",
       "      <td>I only think about suicide</td>\n",
       "      <td>b2me75</td>\n",
       "      <td>I started doing it because it was the only thi...</td>\n",
       "      <td>1</td>\n",
       "      <td>0</td>\n",
       "      <td>2022-01-21 13:26:30</td>\n",
       "      <td>depression</td>\n",
       "      <td>https://www.reddit.com/r/depression/comments/s...</td>\n",
       "    </tr>\n",
       "    <tr>\n",
       "      <th>4</th>\n",
       "      <td>s939xc</td>\n",
       "      <td>Haven’t done anything in 3 weeks</td>\n",
       "      <td>Tall-Half-8363</td>\n",
       "      <td>I was assaulted at a New Years Eve party. \\n\\n...</td>\n",
       "      <td>1</td>\n",
       "      <td>0</td>\n",
       "      <td>2022-01-21 13:27:08</td>\n",
       "      <td>depression</td>\n",
       "      <td>https://www.reddit.com/r/depression/comments/s...</td>\n",
       "    </tr>\n",
       "  </tbody>\n",
       "</table>\n",
       "</div>"
      ],
      "text/plain": [
       "  Post_iD                             Title          Author  \\\n",
       "0  s933xe                          Confused       Ciscobudd   \n",
       "1  s935jy                            Broken  Bazinga_yo_ass   \n",
       "2  s935r4         Nothing feels fun anymore    Sad_Mode6170   \n",
       "3  s939jq        I only think about suicide          b2me75   \n",
       "4  s939xc  Haven’t done anything in 3 weeks  Tall-Half-8363   \n",
       "\n",
       "                                                Body  Score  \\\n",
       "0  My depression has crept up on me today. I feel...      1   \n",
       "1  Wife said she doesn't feel anything for me any...      1   \n",
       "2  I used to enjoy a lot of things, like drawing,...      1   \n",
       "3  I started doing it because it was the only thi...      1   \n",
       "4  I was assaulted at a New Years Eve party. \\n\\n...      1   \n",
       "\n",
       "   Total_no_of_comments         Publish_date   Subreddit  \\\n",
       "0                     0  2022-01-21 13:17:11  depression   \n",
       "1                     0  2022-01-21 13:20:08  depression   \n",
       "2                     0  2022-01-21 13:20:25  depression   \n",
       "3                     0  2022-01-21 13:26:30  depression   \n",
       "4                     0  2022-01-21 13:27:08  depression   \n",
       "\n",
       "                                                Link  \n",
       "0  https://www.reddit.com/r/depression/comments/s...  \n",
       "1  https://www.reddit.com/r/depression/comments/s...  \n",
       "2  https://www.reddit.com/r/depression/comments/s...  \n",
       "3  https://www.reddit.com/r/depression/comments/s...  \n",
       "4  https://www.reddit.com/r/depression/comments/s...  "
      ]
     },
     "execution_count": 4,
     "metadata": {},
     "output_type": "execute_result"
    }
   ],
   "source": [
    "df2 = pd.read_csv(f\"{directory}/depression.csv\")\n",
    "df3 = pd.read_csv(f\"{directory}/suicide_watch.csv\")\n",
    "\n",
    "df2.head()"
   ]
  },
  {
   "cell_type": "markdown",
   "metadata": {
    "id": "jnDlcA7Blk4a"
   },
   "source": [
    "---\n",
    "\n",
    "# Merging data twitter-reddit\n",
    "\n",
    "- Standardise twitter columns\n",
    "  - Drop excess columns\n",
    "- Standardise reddit columns to twitter columns\n",
    "  - Remove invalid posts and users ~ Users and posts may be deleted or removed\n",
    "  - Rename columns\n",
    "  - Merge title and body (reddit posts) into body ~ twitter posts don't have titles\n",
    "  - Drop excess columns\n",
    "- Assign sentiment score based on subreddit pulled from\n",
    "- Merge into single dataframe\n",
    "\n",
    "*Assume posts from same subreddit have similar sentiment score; posts from [/r/depression](https://www.reddit.com/r/depression/), [/r/suicidewatch](https://www.reddit.com/r/SuicideWatch/) are negative.*\n",
    "\n",
    "*The size of twitter data from [Sentiment140](https://www.kaggle.com/datasets/kazanova/sentiment140) far exceeds that of reddit data, so this assumption does not effect the data much.*"
   ]
  },
  {
   "cell_type": "code",
   "execution_count": 5,
   "metadata": {
    "colab": {
     "base_uri": "https://localhost:8080/",
     "height": 206
    },
    "id": "NRkomAyHsn-s",
    "outputId": "6f329e31-367c-4010-ea5e-fa4397deed64"
   },
   "outputs": [
    {
     "data": {
      "text/html": [
       "<div>\n",
       "<style scoped>\n",
       "    .dataframe tbody tr th:only-of-type {\n",
       "        vertical-align: middle;\n",
       "    }\n",
       "\n",
       "    .dataframe tbody tr th {\n",
       "        vertical-align: top;\n",
       "    }\n",
       "\n",
       "    .dataframe thead th {\n",
       "        text-align: right;\n",
       "    }\n",
       "</style>\n",
       "<table border=\"1\" class=\"dataframe\">\n",
       "  <thead>\n",
       "    <tr style=\"text-align: right;\">\n",
       "      <th></th>\n",
       "      <th>sentiment</th>\n",
       "      <th>id</th>\n",
       "      <th>date</th>\n",
       "      <th>user_id</th>\n",
       "      <th>text</th>\n",
       "    </tr>\n",
       "  </thead>\n",
       "  <tbody>\n",
       "    <tr>\n",
       "      <th>0</th>\n",
       "      <td>0</td>\n",
       "      <td>1467810369</td>\n",
       "      <td>Mon Apr 06 22:19:45 PDT 2009</td>\n",
       "      <td>_TheSpecialOne_</td>\n",
       "      <td>@switchfoot http://twitpic.com/2y1zl - Awww, t...</td>\n",
       "    </tr>\n",
       "    <tr>\n",
       "      <th>1</th>\n",
       "      <td>0</td>\n",
       "      <td>1467810672</td>\n",
       "      <td>Mon Apr 06 22:19:49 PDT 2009</td>\n",
       "      <td>scotthamilton</td>\n",
       "      <td>is upset that he can't update his Facebook by ...</td>\n",
       "    </tr>\n",
       "    <tr>\n",
       "      <th>2</th>\n",
       "      <td>0</td>\n",
       "      <td>1467810917</td>\n",
       "      <td>Mon Apr 06 22:19:53 PDT 2009</td>\n",
       "      <td>mattycus</td>\n",
       "      <td>@Kenichan I dived many times for the ball. Man...</td>\n",
       "    </tr>\n",
       "    <tr>\n",
       "      <th>3</th>\n",
       "      <td>0</td>\n",
       "      <td>1467811184</td>\n",
       "      <td>Mon Apr 06 22:19:57 PDT 2009</td>\n",
       "      <td>ElleCTF</td>\n",
       "      <td>my whole body feels itchy and like its on fire</td>\n",
       "    </tr>\n",
       "    <tr>\n",
       "      <th>4</th>\n",
       "      <td>0</td>\n",
       "      <td>1467811193</td>\n",
       "      <td>Mon Apr 06 22:19:57 PDT 2009</td>\n",
       "      <td>Karoli</td>\n",
       "      <td>@nationwideclass no, it's not behaving at all....</td>\n",
       "    </tr>\n",
       "  </tbody>\n",
       "</table>\n",
       "</div>"
      ],
      "text/plain": [
       "   sentiment          id                          date          user_id  \\\n",
       "0          0  1467810369  Mon Apr 06 22:19:45 PDT 2009  _TheSpecialOne_   \n",
       "1          0  1467810672  Mon Apr 06 22:19:49 PDT 2009    scotthamilton   \n",
       "2          0  1467810917  Mon Apr 06 22:19:53 PDT 2009         mattycus   \n",
       "3          0  1467811184  Mon Apr 06 22:19:57 PDT 2009          ElleCTF   \n",
       "4          0  1467811193  Mon Apr 06 22:19:57 PDT 2009           Karoli   \n",
       "\n",
       "                                                text  \n",
       "0  @switchfoot http://twitpic.com/2y1zl - Awww, t...  \n",
       "1  is upset that he can't update his Facebook by ...  \n",
       "2  @Kenichan I dived many times for the ball. Man...  \n",
       "3    my whole body feels itchy and like its on fire   \n",
       "4  @nationwideclass no, it's not behaving at all....  "
      ]
     },
     "execution_count": 5,
     "metadata": {},
     "output_type": "execute_result"
    }
   ],
   "source": [
    "df1 = df1.drop(columns=['query'])\n",
    "df1.head()"
   ]
  },
  {
   "cell_type": "code",
   "execution_count": 6,
   "metadata": {
    "colab": {
     "base_uri": "https://localhost:8080/",
     "height": 206
    },
    "id": "89TL01NjhuMs",
    "outputId": "945c2a84-67de-4fee-d23c-ec9c71e28087"
   },
   "outputs": [
    {
     "data": {
      "text/html": [
       "<div>\n",
       "<style scoped>\n",
       "    .dataframe tbody tr th:only-of-type {\n",
       "        vertical-align: middle;\n",
       "    }\n",
       "\n",
       "    .dataframe tbody tr th {\n",
       "        vertical-align: top;\n",
       "    }\n",
       "\n",
       "    .dataframe thead th {\n",
       "        text-align: right;\n",
       "    }\n",
       "</style>\n",
       "<table border=\"1\" class=\"dataframe\">\n",
       "  <thead>\n",
       "    <tr style=\"text-align: right;\">\n",
       "      <th></th>\n",
       "      <th>id</th>\n",
       "      <th>user_id</th>\n",
       "      <th>text</th>\n",
       "      <th>date</th>\n",
       "      <th>sentiment</th>\n",
       "    </tr>\n",
       "  </thead>\n",
       "  <tbody>\n",
       "    <tr>\n",
       "      <th>0</th>\n",
       "      <td>s933xe</td>\n",
       "      <td>Ciscobudd</td>\n",
       "      <td>Confused My depression has crept up on me toda...</td>\n",
       "      <td>2022-01-21 13:17:11</td>\n",
       "      <td>0</td>\n",
       "    </tr>\n",
       "    <tr>\n",
       "      <th>1</th>\n",
       "      <td>s935jy</td>\n",
       "      <td>Bazinga_yo_ass</td>\n",
       "      <td>Broken Wife said she doesn't feel anything for...</td>\n",
       "      <td>2022-01-21 13:20:08</td>\n",
       "      <td>0</td>\n",
       "    </tr>\n",
       "    <tr>\n",
       "      <th>2</th>\n",
       "      <td>s935r4</td>\n",
       "      <td>Sad_Mode6170</td>\n",
       "      <td>Nothing feels fun anymore I used to enjoy a lo...</td>\n",
       "      <td>2022-01-21 13:20:25</td>\n",
       "      <td>0</td>\n",
       "    </tr>\n",
       "    <tr>\n",
       "      <th>3</th>\n",
       "      <td>s939jq</td>\n",
       "      <td>b2me75</td>\n",
       "      <td>I only think about suicide I started doing it ...</td>\n",
       "      <td>2022-01-21 13:26:30</td>\n",
       "      <td>0</td>\n",
       "    </tr>\n",
       "    <tr>\n",
       "      <th>4</th>\n",
       "      <td>s939xc</td>\n",
       "      <td>Tall-Half-8363</td>\n",
       "      <td>Haven’t done anything in 3 weeks I was assault...</td>\n",
       "      <td>2022-01-21 13:27:08</td>\n",
       "      <td>0</td>\n",
       "    </tr>\n",
       "  </tbody>\n",
       "</table>\n",
       "</div>"
      ],
      "text/plain": [
       "       id         user_id                                               text  \\\n",
       "0  s933xe       Ciscobudd  Confused My depression has crept up on me toda...   \n",
       "1  s935jy  Bazinga_yo_ass  Broken Wife said she doesn't feel anything for...   \n",
       "2  s935r4    Sad_Mode6170  Nothing feels fun anymore I used to enjoy a lo...   \n",
       "3  s939jq          b2me75  I only think about suicide I started doing it ...   \n",
       "4  s939xc  Tall-Half-8363  Haven’t done anything in 3 weeks I was assault...   \n",
       "\n",
       "                  date  sentiment  \n",
       "0  2022-01-21 13:17:11          0  \n",
       "1  2022-01-21 13:20:08          0  \n",
       "2  2022-01-21 13:20:25          0  \n",
       "3  2022-01-21 13:26:30          0  \n",
       "4  2022-01-21 13:27:08          0  "
      ]
     },
     "execution_count": 6,
     "metadata": {},
     "output_type": "execute_result"
    }
   ],
   "source": [
    "def removeInvalidRedditPost(df):\n",
    "    df = df[df.Body.notna()]\n",
    "    df = df[df.Author != \"[removed]\"]\n",
    "    df = df[df.Body != \"[removed]\"]\n",
    "    df = df[df.Author != \"[deleted]\"]\n",
    "    df = df[df.Body != \"[deleted]\"]\n",
    "\n",
    "    return df\n",
    "\n",
    "def standardiseRedditDF(dff, sentimentValue=None):\n",
    "\n",
    "    dff = removeInvalidRedditPost(dff)\n",
    "    dff.rename(columns={'Author': 'user_id', 'Post_iD': 'id', 'Publish_date':'date', 'Body':'text'}, inplace=True)\n",
    "    dff['text'] = dff['Title'].str.cat(dff['text'], sep=\" \")\n",
    "    dff = dff.drop(columns=['Score', 'Total_no_of_comments', 'Link', 'Subreddit', 'Title'])\n",
    "    \n",
    "    if sentimentValue != None:\n",
    "        dff['sentiment'] = sentimentValue\n",
    "\n",
    "    return dff\n",
    "\n",
    "df2 = standardiseRedditDF(df2, 0)\n",
    "df3 = standardiseRedditDF(df3, 0)\n",
    "\n",
    "df2.head()"
   ]
  },
  {
   "cell_type": "code",
   "execution_count": 7,
   "metadata": {
    "colab": {
     "base_uri": "https://localhost:8080/",
     "height": 363
    },
    "id": "A-vfLB6Llo8D",
    "outputId": "c052466e-6671-4d6e-e99a-a40813b0f025"
   },
   "outputs": [
    {
     "data": {
      "text/html": [
       "<div>\n",
       "<style scoped>\n",
       "    .dataframe tbody tr th:only-of-type {\n",
       "        vertical-align: middle;\n",
       "    }\n",
       "\n",
       "    .dataframe tbody tr th {\n",
       "        vertical-align: top;\n",
       "    }\n",
       "\n",
       "    .dataframe thead th {\n",
       "        text-align: right;\n",
       "    }\n",
       "</style>\n",
       "<table border=\"1\" class=\"dataframe\">\n",
       "  <thead>\n",
       "    <tr style=\"text-align: right;\">\n",
       "      <th></th>\n",
       "      <th>sentiment</th>\n",
       "      <th>id</th>\n",
       "      <th>date</th>\n",
       "      <th>user_id</th>\n",
       "      <th>text</th>\n",
       "    </tr>\n",
       "  </thead>\n",
       "  <tbody>\n",
       "    <tr>\n",
       "      <th>25259</th>\n",
       "      <td>0</td>\n",
       "      <td>sz9lix</td>\n",
       "      <td>2022-02-23 13:38:05</td>\n",
       "      <td>irlmeowgf</td>\n",
       "      <td>well, felt great need to post here again. :) t...</td>\n",
       "    </tr>\n",
       "    <tr>\n",
       "      <th>421558</th>\n",
       "      <td>0</td>\n",
       "      <td>2062445801</td>\n",
       "      <td>Sat Jun 06 23:15:14 PDT 2009</td>\n",
       "      <td>NOoRaLiSaa</td>\n",
       "      <td>i have 2 study 2day shit</td>\n",
       "    </tr>\n",
       "    <tr>\n",
       "      <th>669368</th>\n",
       "      <td>0</td>\n",
       "      <td>2246234233</td>\n",
       "      <td>Fri Jun 19 17:17:28 PDT 2009</td>\n",
       "      <td>savannahnatasha</td>\n",
       "      <td>dead fish.</td>\n",
       "    </tr>\n",
       "    <tr>\n",
       "      <th>989843</th>\n",
       "      <td>4</td>\n",
       "      <td>1834920416</td>\n",
       "      <td>Mon May 18 04:37:05 PDT 2009</td>\n",
       "      <td>drhorriblefan</td>\n",
       "      <td>I love the fact that people sent me happy birt...</td>\n",
       "    </tr>\n",
       "    <tr>\n",
       "      <th>246992</th>\n",
       "      <td>0</td>\n",
       "      <td>1982372722</td>\n",
       "      <td>Sun May 31 11:04:43 PDT 2009</td>\n",
       "      <td>moony_blues</td>\n",
       "      <td>Maybe the laundry could have waited another we...</td>\n",
       "    </tr>\n",
       "    <tr>\n",
       "      <th>959033</th>\n",
       "      <td>4</td>\n",
       "      <td>1825913581</td>\n",
       "      <td>Sun May 17 07:12:17 PDT 2009</td>\n",
       "      <td>Cheekynath</td>\n",
       "      <td>@JamesMW78 @luise_g I'm so out of touch! Was G...</td>\n",
       "    </tr>\n",
       "    <tr>\n",
       "      <th>19451</th>\n",
       "      <td>0</td>\n",
       "      <td>sndgxr</td>\n",
       "      <td>2022-02-08 14:37:51</td>\n",
       "      <td>throwaway992812</td>\n",
       "      <td>it is so hard to go through this while in scho...</td>\n",
       "    </tr>\n",
       "    <tr>\n",
       "      <th>792011</th>\n",
       "      <td>0</td>\n",
       "      <td>2326145940</td>\n",
       "      <td>Thu Jun 25 06:37:09 PDT 2009</td>\n",
       "      <td>DynaMyk</td>\n",
       "      <td>@iambigbusiness  I ended up in bed at 3am lol ...</td>\n",
       "    </tr>\n",
       "    <tr>\n",
       "      <th>974407</th>\n",
       "      <td>4</td>\n",
       "      <td>1833387668</td>\n",
       "      <td>Sun May 17 23:07:44 PDT 2009</td>\n",
       "      <td>KevinEdwardsJr</td>\n",
       "      <td>@dominican_mami1 if you like 2 laugh..have a g...</td>\n",
       "    </tr>\n",
       "    <tr>\n",
       "      <th>713048</th>\n",
       "      <td>0</td>\n",
       "      <td>2258717541</td>\n",
       "      <td>Sat Jun 20 16:22:56 PDT 2009</td>\n",
       "      <td>djpeetiv</td>\n",
       "      <td>@IfollowFreeze me tooo.....must be a bot.........</td>\n",
       "    </tr>\n",
       "  </tbody>\n",
       "</table>\n",
       "</div>"
      ],
      "text/plain": [
       "        sentiment          id                          date          user_id  \\\n",
       "25259           0      sz9lix           2022-02-23 13:38:05        irlmeowgf   \n",
       "421558          0  2062445801  Sat Jun 06 23:15:14 PDT 2009       NOoRaLiSaa   \n",
       "669368          0  2246234233  Fri Jun 19 17:17:28 PDT 2009  savannahnatasha   \n",
       "989843          4  1834920416  Mon May 18 04:37:05 PDT 2009    drhorriblefan   \n",
       "246992          0  1982372722  Sun May 31 11:04:43 PDT 2009      moony_blues   \n",
       "959033          4  1825913581  Sun May 17 07:12:17 PDT 2009       Cheekynath   \n",
       "19451           0      sndgxr           2022-02-08 14:37:51  throwaway992812   \n",
       "792011          0  2326145940  Thu Jun 25 06:37:09 PDT 2009          DynaMyk   \n",
       "974407          4  1833387668  Sun May 17 23:07:44 PDT 2009   KevinEdwardsJr   \n",
       "713048          0  2258717541  Sat Jun 20 16:22:56 PDT 2009         djpeetiv   \n",
       "\n",
       "                                                     text  \n",
       "25259   well, felt great need to post here again. :) t...  \n",
       "421558                          i have 2 study 2day shit   \n",
       "669368                                        dead fish.   \n",
       "989843  I love the fact that people sent me happy birt...  \n",
       "246992  Maybe the laundry could have waited another we...  \n",
       "959033  @JamesMW78 @luise_g I'm so out of touch! Was G...  \n",
       "19451   it is so hard to go through this while in scho...  \n",
       "792011  @iambigbusiness  I ended up in bed at 3am lol ...  \n",
       "974407  @dominican_mami1 if you like 2 laugh..have a g...  \n",
       "713048  @IfollowFreeze me tooo.....must be a bot.........  "
      ]
     },
     "execution_count": 7,
     "metadata": {},
     "output_type": "execute_result"
    }
   ],
   "source": [
    "df = pd.concat([df1, df2, df3])\n",
    "\n",
    "df.sample(10)"
   ]
  },
  {
   "cell_type": "markdown",
   "metadata": {
    "id": "K65cIsYMsjg_"
   },
   "source": [
    "# Prepping data"
   ]
  },
  {
   "cell_type": "markdown",
   "metadata": {
    "id": "lp8Ntbz7UK7a"
   },
   "source": [
    "## Mapping sentiments\n",
    "\n",
    "* 0 - negative\n",
    "* 2 - neutral\n",
    "* 4 - positive\n",
    "\n"
   ]
  },
  {
   "cell_type": "code",
   "execution_count": 8,
   "metadata": {
    "colab": {
     "base_uri": "https://localhost:8080/"
    },
    "id": "vhqboZgsUQs6",
    "outputId": "1205556e-a910-4794-a9c9-8d1a3dcf621a"
   },
   "outputs": [
    {
     "name": "stderr",
     "output_type": "stream",
     "text": [
      "100%|███████████████████████████████████████████████████████████████████| 1805346/1805346 [00:01<00:00, 1216405.22it/s]\n"
     ]
    }
   ],
   "source": [
    "def sentimentMapping(label):\n",
    "    decodeMap = {0: \"Negative\", 2: \"Neutral\", 4: \"Positive\"}\n",
    "    return decodeMap[int(label)]\n",
    "\n",
    "df.sentiment = df.sentiment.progress_apply(lambda x: sentimentMapping(x))"
   ]
  },
  {
   "cell_type": "markdown",
   "metadata": {
    "id": "DFq-yKEn6fuZ"
   },
   "source": [
    "## Cleaning text\n",
    "\n",
    "1. Lower casing\n",
    "2. Replacing URLs\n",
    "3. Replacing username references \n",
    "4. Removing non-alphanumerics\n",
    "5. Removing stopwords"
   ]
  },
  {
   "cell_type": "code",
   "execution_count": 9,
   "metadata": {
    "colab": {
     "base_uri": "https://localhost:8080/"
    },
    "id": "vQdcjKC26gQ_",
    "outputId": "39bbcb40-2299-4f0d-a0fc-27be6ad8eaa9"
   },
   "outputs": [
    {
     "name": "stderr",
     "output_type": "stream",
     "text": [
      "100%|██████████████████████████████████████████████████████████████████████| 1805346/1805346 [07:10<00:00, 4188.96it/s]\n"
     ]
    }
   ],
   "source": [
    "def preprocess(text):\n",
    "  \n",
    "  stopWords = stopwords.words(\"english\")\n",
    "  urlPattern        = r\"((http://)[^ ]*|(https://)[^ ]*|( www\\.)[^ ]*)\"\n",
    "  userPattern       = \"@[^\\s]+\" \n",
    "  alphaPattern      = \"[^a-zA-Z0-9]\"\n",
    "\n",
    "  text = str(text).lower()\n",
    "  text = sub(urlPattern, ' URL', text).strip()\n",
    "  text = sub(userPattern, ' USER', text).strip()\n",
    "  text = sub(alphaPattern, ' ', text).strip()\n",
    "  \n",
    "  tokens = []\n",
    "  for token in text.split():\n",
    "    if token not in stopWords:\n",
    "      tokens.append(token)\n",
    "\n",
    "  return \" \".join(tokens)\n",
    "\n",
    "def parellelPreProcess(df):\n",
    "    ddf = dd.from_pandas(df, npartitions=4)\n",
    "    ddf[\"text\"] = ddf[\"text\"].apply(lambda x: preprocess(x), meta=('result', str))\n",
    "    df4 = ddf.compute()\n",
    "\n",
    "df = parellelPreProcess(df)"
   ]
  },
  {
   "cell_type": "markdown",
   "metadata": {},
   "source": [
    "## Cleaned and merged data"
   ]
  },
  {
   "cell_type": "code",
   "execution_count": 10,
   "metadata": {
    "colab": {
     "base_uri": "https://localhost:8080/",
     "height": 363
    },
    "id": "MYjcKvPmOWx4",
    "outputId": "2325a73e-d30a-42a1-92c5-d812b01f075d"
   },
   "outputs": [
    {
     "data": {
      "text/html": [
       "<div>\n",
       "<style scoped>\n",
       "    .dataframe tbody tr th:only-of-type {\n",
       "        vertical-align: middle;\n",
       "    }\n",
       "\n",
       "    .dataframe tbody tr th {\n",
       "        vertical-align: top;\n",
       "    }\n",
       "\n",
       "    .dataframe thead th {\n",
       "        text-align: right;\n",
       "    }\n",
       "</style>\n",
       "<table border=\"1\" class=\"dataframe\">\n",
       "  <thead>\n",
       "    <tr style=\"text-align: right;\">\n",
       "      <th></th>\n",
       "      <th>sentiment</th>\n",
       "      <th>id</th>\n",
       "      <th>date</th>\n",
       "      <th>user_id</th>\n",
       "      <th>text</th>\n",
       "    </tr>\n",
       "  </thead>\n",
       "  <tbody>\n",
       "    <tr>\n",
       "      <th>5123</th>\n",
       "      <td>Negative</td>\n",
       "      <td>shhibr</td>\n",
       "      <td>2022-02-01 08:53:01</td>\n",
       "      <td>ConcentrateBig5722</td>\n",
       "      <td>lost fianc fianc gf 4 years suddenly showed pa...</td>\n",
       "    </tr>\n",
       "    <tr>\n",
       "      <th>95874</th>\n",
       "      <td>Negative</td>\n",
       "      <td>pjxesf</td>\n",
       "      <td>2021-09-07 22:23:02</td>\n",
       "      <td>AussieBaby123</td>\n",
       "      <td>hate hate fucking much someone kill ugh</td>\n",
       "    </tr>\n",
       "    <tr>\n",
       "      <th>1515498</th>\n",
       "      <td>Positive</td>\n",
       "      <td>2175609216</td>\n",
       "      <td>Mon Jun 15 01:28:34 PDT 2009</td>\n",
       "      <td>emirwin8</td>\n",
       "      <td>USER URL lol im u love starbucks</td>\n",
       "    </tr>\n",
       "    <tr>\n",
       "      <th>42892</th>\n",
       "      <td>Negative</td>\n",
       "      <td>rj88ij</td>\n",
       "      <td>2021-12-18 14:08:36</td>\n",
       "      <td>Gummy_Tris</td>\n",
       "      <td>sorry pills breaking slowly want like please f...</td>\n",
       "    </tr>\n",
       "    <tr>\n",
       "      <th>1021010</th>\n",
       "      <td>Positive</td>\n",
       "      <td>1882485295</td>\n",
       "      <td>Fri May 22 06:57:34 PDT 2009</td>\n",
       "      <td>ANN3L</td>\n",
       "      <td>think finally ready next chapter life</td>\n",
       "    </tr>\n",
       "    <tr>\n",
       "      <th>75979</th>\n",
       "      <td>Negative</td>\n",
       "      <td>o5wrmi</td>\n",
       "      <td>2021-06-23 04:41:27</td>\n",
       "      <td>shit_on_my_weiner</td>\n",
       "      <td>feel sorry tell head serious need help know fu...</td>\n",
       "    </tr>\n",
       "    <tr>\n",
       "      <th>1181069</th>\n",
       "      <td>Positive</td>\n",
       "      <td>1982019103</td>\n",
       "      <td>Sun May 31 10:21:45 PDT 2009</td>\n",
       "      <td>SmileyKayC</td>\n",
       "      <td>chillen home</td>\n",
       "    </tr>\n",
       "    <tr>\n",
       "      <th>774005</th>\n",
       "      <td>Negative</td>\n",
       "      <td>2306758665</td>\n",
       "      <td>Tue Jun 23 22:55:54 PDT 2009</td>\n",
       "      <td>ll_w</td>\n",
       "      <td>want go back la hotel old old one</td>\n",
       "    </tr>\n",
       "    <tr>\n",
       "      <th>1581689</th>\n",
       "      <td>Positive</td>\n",
       "      <td>2190221135</td>\n",
       "      <td>Tue Jun 16 02:06:38 PDT 2009</td>\n",
       "      <td>iwillbefamous</td>\n",
       "      <td>great monday hope even better day tomorrow</td>\n",
       "    </tr>\n",
       "    <tr>\n",
       "      <th>27904</th>\n",
       "      <td>Negative</td>\n",
       "      <td>s77j1r</td>\n",
       "      <td>2022-01-18 20:50:58</td>\n",
       "      <td>CreamyTHOT</td>\n",
       "      <td>9 months since last attempt today hardest day ...</td>\n",
       "    </tr>\n",
       "  </tbody>\n",
       "</table>\n",
       "</div>"
      ],
      "text/plain": [
       "        sentiment          id                          date  \\\n",
       "5123     Negative      shhibr           2022-02-01 08:53:01   \n",
       "95874    Negative      pjxesf           2021-09-07 22:23:02   \n",
       "1515498  Positive  2175609216  Mon Jun 15 01:28:34 PDT 2009   \n",
       "42892    Negative      rj88ij           2021-12-18 14:08:36   \n",
       "1021010  Positive  1882485295  Fri May 22 06:57:34 PDT 2009   \n",
       "75979    Negative      o5wrmi           2021-06-23 04:41:27   \n",
       "1181069  Positive  1982019103  Sun May 31 10:21:45 PDT 2009   \n",
       "774005   Negative  2306758665  Tue Jun 23 22:55:54 PDT 2009   \n",
       "1581689  Positive  2190221135  Tue Jun 16 02:06:38 PDT 2009   \n",
       "27904    Negative      s77j1r           2022-01-18 20:50:58   \n",
       "\n",
       "                    user_id                                               text  \n",
       "5123     ConcentrateBig5722  lost fianc fianc gf 4 years suddenly showed pa...  \n",
       "95874         AussieBaby123            hate hate fucking much someone kill ugh  \n",
       "1515498            emirwin8                   USER URL lol im u love starbucks  \n",
       "42892            Gummy_Tris  sorry pills breaking slowly want like please f...  \n",
       "1021010               ANN3L              think finally ready next chapter life  \n",
       "75979     shit_on_my_weiner  feel sorry tell head serious need help know fu...  \n",
       "1181069          SmileyKayC                                       chillen home  \n",
       "774005                 ll_w                  want go back la hotel old old one  \n",
       "1581689       iwillbefamous         great monday hope even better day tomorrow  \n",
       "27904            CreamyTHOT  9 months since last attempt today hardest day ...  "
      ]
     },
     "execution_count": 10,
     "metadata": {},
     "output_type": "execute_result"
    }
   ],
   "source": [
    "df.sample(10)"
   ]
  },
  {
   "cell_type": "markdown",
   "metadata": {},
   "source": [
    "# Creating the model"
   ]
  },
  {
   "cell_type": "markdown",
   "metadata": {
    "id": "7HHJzy58BYuo"
   },
   "source": [
    "## Train and test splitting\n",
    "\n",
    "80/20 split"
   ]
  },
  {
   "cell_type": "code",
   "execution_count": 11,
   "metadata": {
    "colab": {
     "base_uri": "https://localhost:8080/"
    },
    "id": "NjJQVZh_BZrq",
    "outputId": "d70cd714-a14f-4eb4-a780-4fc14a283cd0"
   },
   "outputs": [
    {
     "name": "stdout",
     "output_type": "stream",
     "text": [
      "Train size: 1444276\n",
      "Test size: 361070\n"
     ]
    }
   ],
   "source": [
    "trainData, testData = train_test_split(df, train_size=0.8)\n",
    "\n",
    "print(\"Train size:\", len(trainData))\n",
    "print(\"Test size:\", len(testData))"
   ]
  },
  {
   "cell_type": "markdown",
   "metadata": {
    "id": "c1P8ObAqzoAJ"
   },
   "source": [
    "## Tokenisation"
   ]
  },
  {
   "cell_type": "code",
   "execution_count": 12,
   "metadata": {
    "colab": {
     "base_uri": "https://localhost:8080/"
    },
    "id": "LCFENK6-zu-8",
    "outputId": "6dc4180c-6381-44d7-ace3-c7b7f9183fe4"
   },
   "outputs": [
    {
     "name": "stdout",
     "output_type": "stream",
     "text": [
      "Vocab size: 280673\n"
     ]
    }
   ],
   "source": [
    "tokeniser = Tokenizer()\n",
    "tokeniser.fit_on_texts(trainData.text)\n",
    "\n",
    "vocabSize = len(tokeniser.word_index) + 1\n",
    "print(f'Vocab size: {vocabSize}')"
   ]
  },
  {
   "cell_type": "markdown",
   "metadata": {
    "id": "z7z3dlBM1O5L"
   },
   "source": [
    "## Encoder"
   ]
  },
  {
   "cell_type": "code",
   "execution_count": 13,
   "metadata": {
    "colab": {
     "base_uri": "https://localhost:8080/"
    },
    "id": "wWhPyLQq1SS2",
    "outputId": "071ccddd-2423-4909-f315-e5af7db91aa5"
   },
   "outputs": [
    {
     "name": "stdout",
     "output_type": "stream",
     "text": [
      "CPU times: total: 391 ms\n",
      "Wall time: 389 ms\n"
     ]
    },
    {
     "data": {
      "text/plain": [
       "LabelEncoder()"
      ]
     },
     "execution_count": 13,
     "metadata": {},
     "output_type": "execute_result"
    }
   ],
   "source": [
    "%%time\n",
    "\n",
    "encoder = LabelEncoder()\n",
    "encoder.fit(trainData.sentiment.to_list())"
   ]
  },
  {
   "cell_type": "markdown",
   "metadata": {
    "id": "D6n0sT1W1-y4"
   },
   "source": [
    "## Reshaping train and test variables"
   ]
  },
  {
   "cell_type": "code",
   "execution_count": 14,
   "metadata": {
    "colab": {
     "base_uri": "https://localhost:8080/"
    },
    "id": "14ICIuBA1oJ_",
    "outputId": "984f658a-00ae-432f-e9d2-813e6b16cec8"
   },
   "outputs": [
    {
     "name": "stdout",
     "output_type": "stream",
     "text": [
      "CPU times: total: 23.5 s\n",
      "Wall time: 23.5 s\n"
     ]
    }
   ],
   "source": [
    "%%time\n",
    "\n",
    "xTrain = pad_sequences(tokeniser.texts_to_sequences(trainData.text), maxlen = 300)\n",
    "xTest = pad_sequences(tokeniser.texts_to_sequences(testData.text), maxlen = 300)\n",
    "\n",
    "yTrain = encoder.transform(trainData.sentiment.to_list()).reshape(-1,1)\n",
    "yTest = encoder.transform(testData.sentiment.to_list()).reshape(-1,1)"
   ]
  },
  {
   "cell_type": "markdown",
   "metadata": {
    "id": "2wIIokKM2G1L"
   },
   "source": [
    "## Model build"
   ]
  },
  {
   "cell_type": "code",
   "execution_count": 15,
   "metadata": {
    "colab": {
     "base_uri": "https://localhost:8080/"
    },
    "id": "rd5EMQWf2WBp",
    "outputId": "bce5e104-7a9e-4837-9ad2-5cdc63a47e2e"
   },
   "outputs": [
    {
     "name": "stderr",
     "output_type": "stream",
     "text": [
      "100%|██████████████████████████████████████████████████████████████████████| 280672/280672 [00:00<00:00, 764774.62it/s]"
     ]
    },
    {
     "name": "stdout",
     "output_type": "stream",
     "text": [
      "CPU times: total: 9min 44s\n",
      "Wall time: 1min 50s\n"
     ]
    },
    {
     "name": "stderr",
     "output_type": "stream",
     "text": [
      "\n"
     ]
    }
   ],
   "source": [
    "%%time\n",
    "\n",
    "w2vModel = Word2Vec(vector_size=300, window=7, min_count=10, workers=6)\n",
    "\n",
    "_words = [_text.split() for _text in trainData.text]\n",
    "\n",
    "w2vModel.build_vocab(_words)\n",
    "w2vModel.train(_words, \n",
    "                total_examples=len(_words), \n",
    "                epochs=8,\n",
    "              )\n",
    "\n",
    "embMatrix = np.zeros((vocabSize, 300))\n",
    "for word, i in tqdm(tokeniser.word_index.items()):\n",
    "  if word in w2vModel.wv:\n",
    "    embMatrix[i] = w2vModel.wv[word]\n",
    "\n",
    "embLayer = Embedding(vocabSize, 300, weights=[embMatrix], input_length=300, trainable=False)"
   ]
  },
  {
   "cell_type": "code",
   "execution_count": 16,
   "metadata": {
    "colab": {
     "base_uri": "https://localhost:8080/"
    },
    "id": "zK3-FmVK-Ndd",
    "outputId": "154c9202-d44f-48e3-924c-2bff260b6c16"
   },
   "outputs": [
    {
     "name": "stdout",
     "output_type": "stream",
     "text": [
      "Model: \"sequential\"\n",
      "_________________________________________________________________\n",
      " Layer (type)                Output Shape              Param #   \n",
      "=================================================================\n",
      " embedding (Embedding)       (None, 300, 300)          84201900  \n",
      "                                                                 \n",
      " dropout (Dropout)           (None, 300, 300)          0         \n",
      "                                                                 \n",
      " cu_dnnlstm (CuDNNLSTM)      (None, 100)               160800    \n",
      "                                                                 \n",
      " dense (Dense)               (None, 1)                 101       \n",
      "                                                                 \n",
      "=================================================================\n",
      "Total params: 84,362,801\n",
      "Trainable params: 160,901\n",
      "Non-trainable params: 84,201,900\n",
      "_________________________________________________________________\n"
     ]
    }
   ],
   "source": [
    "model = Sequential()\n",
    "model.add(embLayer)\n",
    "model.add(Dropout(0.5))\n",
    "model.add(CuDNNLSTM(100))\n",
    "model.add(Dense(1, activation='sigmoid'))\n",
    "\n",
    "model.summary()"
   ]
  },
  {
   "cell_type": "code",
   "execution_count": 17,
   "metadata": {
    "colab": {
     "base_uri": "https://localhost:8080/"
    },
    "id": "e4Cr-54FFvUh",
    "outputId": "e2157bb2-9929-4baf-97b5-817f176e98f7"
   },
   "outputs": [
    {
     "name": "stdout",
     "output_type": "stream",
     "text": [
      "CPU times: total: 0 ns\n",
      "Wall time: 5 ms\n"
     ]
    }
   ],
   "source": [
    "%%time\n",
    "\n",
    "model.compile(optimizer='adam', loss='binary_crossentropy')"
   ]
  },
  {
   "cell_type": "code",
   "execution_count": 18,
   "metadata": {
    "colab": {
     "base_uri": "https://localhost:8080/"
    },
    "id": "5k6vR2zIGKqR",
    "outputId": "0359efb2-c853-4c51-aa1e-bd498c1015ae"
   },
   "outputs": [
    {
     "data": {
      "application/vnd.jupyter.widget-view+json": {
       "model_id": "1d02df1369c849d1b122f0330d634921",
       "version_major": 2,
       "version_minor": 0
      },
      "text/plain": [
       "0epoch [00:00, ?epoch/s]"
      ]
     },
     "metadata": {},
     "output_type": "display_data"
    },
    {
     "data": {
      "application/vnd.jupyter.widget-view+json": {
       "model_id": "d7ebde420e73477db793e13e9256041b",
       "version_major": 2,
       "version_minor": 0
      },
      "text/plain": [
       "  0%|          | 0.00/1.27k [00:00<?, ?batch/s]"
      ]
     },
     "metadata": {},
     "output_type": "display_data"
    },
    {
     "data": {
      "application/vnd.jupyter.widget-view+json": {
       "model_id": "c5f77b3aa8f94b06a079120195393355",
       "version_major": 2,
       "version_minor": 0
      },
      "text/plain": [
       "  0%|          | 0.00/1.27k [00:00<?, ?batch/s]"
      ]
     },
     "metadata": {},
     "output_type": "display_data"
    },
    {
     "data": {
      "application/vnd.jupyter.widget-view+json": {
       "model_id": "1d0a1a8cad124b28bcdda3299f521784",
       "version_major": 2,
       "version_minor": 0
      },
      "text/plain": [
       "  0%|          | 0.00/1.27k [00:00<?, ?batch/s]"
      ]
     },
     "metadata": {},
     "output_type": "display_data"
    },
    {
     "data": {
      "application/vnd.jupyter.widget-view+json": {
       "model_id": "80f1b043c6a24a75be54182f17f36eb3",
       "version_major": 2,
       "version_minor": 0
      },
      "text/plain": [
       "  0%|          | 0.00/1.27k [00:00<?, ?batch/s]"
      ]
     },
     "metadata": {},
     "output_type": "display_data"
    },
    {
     "data": {
      "application/vnd.jupyter.widget-view+json": {
       "model_id": "85e3e8ed5ea94f068d7f98e2a61a9b0e",
       "version_major": 2,
       "version_minor": 0
      },
      "text/plain": [
       "  0%|          | 0.00/1.27k [00:00<?, ?batch/s]"
      ]
     },
     "metadata": {},
     "output_type": "display_data"
    },
    {
     "data": {
      "application/vnd.jupyter.widget-view+json": {
       "model_id": "4d8eff72b128430baa76c0cd3188c111",
       "version_major": 2,
       "version_minor": 0
      },
      "text/plain": [
       "  0%|          | 0.00/1.27k [00:00<?, ?batch/s]"
      ]
     },
     "metadata": {},
     "output_type": "display_data"
    },
    {
     "data": {
      "application/vnd.jupyter.widget-view+json": {
       "model_id": "c70d28bc874b4f9fb2e62fcd1718dce5",
       "version_major": 2,
       "version_minor": 0
      },
      "text/plain": [
       "  0%|          | 0.00/1.27k [00:00<?, ?batch/s]"
      ]
     },
     "metadata": {},
     "output_type": "display_data"
    },
    {
     "data": {
      "application/vnd.jupyter.widget-view+json": {
       "model_id": "9925907391484407b612660641cde4e1",
       "version_major": 2,
       "version_minor": 0
      },
      "text/plain": [
       "  0%|          | 0.00/1.27k [00:00<?, ?batch/s]"
      ]
     },
     "metadata": {},
     "output_type": "display_data"
    },
    {
     "name": "stdout",
     "output_type": "stream",
     "text": [
      "CPU times: total: 2h 25min 46s\n",
      "Wall time: 2h 24min 32s\n"
     ]
    }
   ],
   "source": [
    "%%time\n",
    "callbacks = [ ReduceLROnPlateau(monitor='val_loss', patience=5, cooldown=0), \n",
    "              EarlyStopping(monitor='val_loss', min_delta=1e-4, patience=5),\n",
    "              TqdmCallback(verbose=2)\n",
    "            ]\n",
    "\n",
    "history = model.fit(xTrain, yTrain,\n",
    "                    batch_size=1024,\n",
    "                    epochs=8,\n",
    "                    validation_split=0.1,\n",
    "                    verbose=0,\n",
    "                    callbacks=callbacks)"
   ]
  },
  {
   "cell_type": "markdown",
   "metadata": {},
   "source": [
    "# Saving and loading model\n",
    "\n",
    "This function is to save a trained model and load a pre-trained model from model.h5. To use place 'model.h5' file within\n"
   ]
  },
  {
   "cell_type": "code",
   "execution_count": 81,
   "metadata": {
    "id": "7pc_aEQH0596"
   },
   "outputs": [],
   "source": [
    "def saveModel():\n",
    "    model.save(\"model.h5\")\n",
    "    pickle.dump(tokeniser, open(\"tokenizer.pkl\", \"wb\"), protocol=0)\n",
    "\n",
    "def loadModel(pathToModel, pathToPKL):\n",
    "    with open(pathToPKL, 'rb') as f:\n",
    "        tokeniser = pickle.load(f)\n",
    "    return load_model(pathToModel), tokeniser\n",
    "\n",
    "# Example usage\n",
    "# model, tokeniser = loadModel(\"./model.h5\", \"./tokenizer.pkl\")\n",
    "# saveModel()"
   ]
  },
  {
   "cell_type": "markdown",
   "metadata": {
    "id": "qACVjp1BO0TM"
   },
   "source": [
    "# Analysis"
   ]
  },
  {
   "cell_type": "code",
   "execution_count": 20,
   "metadata": {
    "id": "QqdBib_zHHc7"
   },
   "outputs": [
    {
     "name": "stdout",
     "output_type": "stream",
     "text": [
      "Label: Negative\n",
      "Score: [[0.01387025]]\n",
      "Time elapsed: 6.566251993179321s\n"
     ]
    }
   ],
   "source": [
    "def sentimentFromScore(score):\n",
    "  score = float(score)\n",
    "  label = 'Neutral'\n",
    "  if score <= 0.35:\n",
    "      label = 'Negative'\n",
    "  elif score >= 0.65:\n",
    "      label = 'Positive'\n",
    "\n",
    "  return label\n",
    "\n",
    "def predict(text, wantsTime=False):\n",
    "  if wantsTime: \n",
    "      start_at = time()\n",
    "  \n",
    "  text = str(text)\n",
    "  score = model.predict(pad_sequences(tokeniser.texts_to_sequences([text]), maxlen=300))\n",
    "\n",
    "  result = {\"label\": sentimentFromScore(score), \n",
    "            \"score\": score}\n",
    "  \n",
    "  if wantsTime: \n",
    "      result[\"elapsedTime\"] = time() - start_at\n",
    "\n",
    "  return result\n",
    "\n",
    "prediction = predict(\"I'm sick of this game\", True)\n",
    "\n",
    "print(f\"Label: {prediction['label']}\")\n",
    "print(f\"Score: {prediction['score']}\")\n",
    "print(f\"Time elapsed: {prediction['elapsedTime']}s\")"
   ]
  },
  {
   "cell_type": "markdown",
   "metadata": {},
   "source": [
    "## Preparing data from uncategorised subreddits"
   ]
  },
  {
   "cell_type": "code",
   "execution_count": 75,
   "metadata": {
    "id": "ywovfMkWOmM3"
   },
   "outputs": [
    {
     "name": "stdout",
     "output_type": "stream",
     "text": [
      "[########################################] | 100% Completed |  1min 56.0s\n",
      "[########################################] | 100% Completed |  1min 56.0s\n"
     ]
    }
   ],
   "source": [
    "def hi(count):\n",
    "    df4 = pd.read_csv(f\"{directory}/teenagers.csv\")\n",
    "    df4 = standardiseRedditDF(df4)\n",
    "\n",
    "    if count:\n",
    "        df4 = df4.head(count)\n",
    "        \n",
    "    ddf = dd.from_pandas(df4, npartitions=4)\n",
    "    ddf[\"sentimentScore\"] = ddf[\"text\"].apply(lambda x: float(predict(x)['score']), meta=('result', float))\n",
    "    ddf[\"sentiment\"] = ddf[\"sentimentScore\"].apply(lambda x: sentimentFromScore(x), meta=('result', str))\n",
    "    df4 = ddf.compute()\n",
    "    \n",
    "    return df4\n",
    "    \n",
    "hi = hi(300)"
   ]
  },
  {
   "cell_type": "code",
   "execution_count": 76,
   "metadata": {},
   "outputs": [],
   "source": [
    "def duplicatePosts(hi):\n",
    "    \n",
    "    duplicatePosts = hi.groupby('user_id').filter(lambda x : x['user_id'].shape[0]>=3)\n",
    "\n",
    "    return duplicatePosts\n",
    "\n",
    "duplicatePosts = duplicatePosts(hi)"
   ]
  },
  {
   "cell_type": "code",
   "execution_count": 80,
   "metadata": {},
   "outputs": [
    {
     "data": {
      "image/png": "[encoded data removed]",
      "text/plain": [
       "<Figure size 1440x576 with 4 Axes>"
      ]
     },
     "metadata": {
      "needs_background": "light"
     },
     "output_type": "display_data"
    }
   ],
   "source": [
    "import random\n",
    "\n",
    "def hello(duplicatePosts, count):\n",
    "    \n",
    "    fig, axs = subplots(count)\n",
    "    fig.tight_layout()\n",
    "    \n",
    "    duplicatePosts = duplicatePosts.reset_index(drop=True)\n",
    "    \n",
    "    names = duplicatePosts.user_id.unique()\n",
    "    random.shuffle(names)\n",
    "    \n",
    "    for y, x in enumerate(names[0:count]):\n",
    "        tina = duplicatePosts[duplicatePosts[\"user_id\"] == x].sort_values(\"date\")\n",
    "        tina.plot(x='date', y='sentimentScore', kind='line', figsize=(20,8), ax=axs[y])\n",
    "        axs[y].set_title(f\"{x}\")\n",
    "        \n",
    "    show()\n",
    "\n",
    "hello(duplicatePosts, 4)"
   ]
  },
  {
   "cell_type": "code",
   "execution_count": null,
   "metadata": {},
   "outputs": [],
   "source": []
  }
 ],
 "metadata": {
  "accelerator": "GPU",
  "colab": {
   "collapsed_sections": [],
   "name": "Untitled0.ipynb",
   "provenance": []
  },
  "kernelspec": {
   "display_name": "Python 3 (ipykernel)",
   "language": "python",
   "name": "python3"
  },
  "language_info": {
   "codemirror_mode": {
    "name": "ipython",
    "version": 3
   },
   "file_extension": ".py",
   "mimetype": "text/x-python",
   "name": "python",
   "nbconvert_exporter": "python",
   "pygments_lexer": "ipython3",
   "version": "3.9.7"
  }
 },
 "nbformat": 4,
 "nbformat_minor": 1
}
